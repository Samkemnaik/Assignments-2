{
 "cells": [
  {
   "cell_type": "markdown",
   "id": "5f1148d8",
   "metadata": {},
   "source": [
    "#### Q1. The time required for servicing transmissions is normally distributed with mu = 45 minutes and sigma = 8 minutes. The service manager plans to have work begin on the transmission of a customer’s car 10 minutes after the car is dropped off and the customer is told that the car will be ready within 1 hour from drop-off. What is the probability that the service manager cannot meet his commitment? "
   ]
  },
  {
   "cell_type": "code",
   "execution_count": 2,
   "id": "234ab0fd",
   "metadata": {},
   "outputs": [],
   "source": [
    "import numpy as np\n",
    "import pandas as pd\n",
    "import scipy.stats as stats\n",
    "import warnings\n",
    "warnings.filterwarnings('ignore')"
   ]
  },
  {
   "cell_type": "code",
   "execution_count": 29,
   "id": "9c8032ca",
   "metadata": {},
   "outputs": [
    {
     "name": "stdout",
     "output_type": "stream",
     "text": [
      "Probability that the service manager cannot meet his commitment is : 0.26599\n"
     ]
    }
   ],
   "source": [
    "#Given Data\n",
    "'''the serving work will began after 10 min of drop off so 45+10 \n",
    "which will now take more than the usual time so new mu is 55 minutes \n",
    "and the porbbaility that it will take more than 1 hour to complete'''\n",
    "\n",
    "mu = 55\n",
    "sigma = 8\n",
    "prob = stats.norm.sf(60,loc=mu,scale=sigma)\n",
    "print('Probability that the service manager cannot meet his commitment is :',np.round(prob,5))"
   ]
  },
  {
   "cell_type": "markdown",
   "id": "7f6c5ca0",
   "metadata": {},
   "source": [
    "#### Q2. The current age (in years) of 400 clerical employees at an insurance claims processing center is normally distributed with mean = 38 and Standard deviation =6. For each statement below, please specify True/False. If false, briefly explain why.\n",
    "*\tMore employees at the processing center are older than 44 than between 38 and 44.\n",
    "*\tA training program for employees under the age of 30 at the center would be expected to attract about 36 employees.\n"
   ]
  },
  {
   "cell_type": "code",
   "execution_count": 53,
   "id": "8c8fbcc1",
   "metadata": {
    "scrolled": true
   },
   "outputs": [
    {
     "name": "stdout",
     "output_type": "stream",
     "text": [
      "(A) \n",
      "Probability between 44 & 38 is : 0.3413447460685429\n",
      "Probability more than 44 is : 0.15865525393145707\n",
      "More employees at the processing center are older than 44 tha between 38 and 44 is : False\n",
      "\n",
      "(B) A training program for employees under the age of 30 at the center would be expected to attract about 36.0 employees is \"True\"\n"
     ]
    }
   ],
   "source": [
    "# Given Data \n",
    "N = 400\n",
    "mu = 38\n",
    "std = 6\n",
    "lessthan_44 = stats.norm.cdf(44,loc=mu,scale=std)\n",
    "lessthan_38 = stats.norm.cdf(38,loc=mu,scale=std)\n",
    "prob_between_44_and_38 = (lessthan_44 - lessthan_38)\n",
    "morethan_44 = 1 - stats.norm.cdf(44,loc=mu,scale=std)\n",
    "print('(A)','\\nProbability between 44 & 38 is :',prob_between_44_and_38)\n",
    "print('Probability more than 44 is :',morethan_44)\n",
    "print('More employees at the processing center are older than 44 tha between 38 and 44 is :',\n",
    "     morethan_44 > prob_between_44_and_38)\n",
    "\n",
    "under_30 = stats.norm.cdf(30,loc=mu,scale=std)\n",
    "print('\\n(B) A training program for employees under the age of 30 at the center would be expected to attract about',\n",
    "     np.round(under_30*400),'employees is \"True\"')"
   ]
  },
  {
   "cell_type": "markdown",
   "id": "27496e98",
   "metadata": {},
   "source": [
    "#### Q4. Let X ~ N(100, 20^2). Find two values, a and b, symmetric about the mean, such that the probability of the random variable taking a value between them is 0.99. \n",
    "\n",
    "A.\t90.5, 105.9 \n",
    "B.\t80.2, 119.8 \n",
    "C.\t22, 78 \n",
    "D.\t48.5, 151.5 \n",
    "E.\t90.1, 109.9\n"
   ]
  },
  {
   "cell_type": "code",
   "execution_count": 3,
   "id": "2d6ca967",
   "metadata": {},
   "outputs": [
    {
     "name": "stdout",
     "output_type": "stream",
     "text": [
      "The two values a and b symmetric about the mean such that the probability of the random variable taking a value between them is 0.99 is : [ 48. 152.]\n"
     ]
    }
   ],
   "source": [
    "# Given\n",
    "mu = 100\n",
    "std = 20\n",
    "print('The two values a and b symmetric about the mean such that the probability of the random variable taking a value between them is 0.99 is :',np.round(stats.norm.interval(0.99,loc=mu,scale=std)))"
   ]
  },
  {
   "cell_type": "markdown",
   "id": "fc48b481",
   "metadata": {},
   "source": [
    "#### Q5. Consider a company that has two different divisions. The annual profits from the two divisions are independent and have distributions Profit1 ~ N(5, 3^2) and Profit2 ~ N(7, 4^2) respectively. Both the profits are in Million. Answer the following questions about the total profit of the company in Rupees. Assume that 1 = Rs. 45"
   ]
  },
  {
   "cell_type": "code",
   "execution_count": 4,
   "id": "1024b36a",
   "metadata": {},
   "outputs": [
    {
     "name": "stdout",
     "output_type": "stream",
     "text": [
      "The Mean Profit of both division: 12 Million$\n",
      "The Mean Profit of both division: 54.0 Crore Rupees\n",
      "The Standard Deviation of both division: 5.0 Million$\n",
      "The Standard Deviation of both division: 22.5 Crore Rupees\n"
     ]
    }
   ],
   "source": [
    "# Combine Mean Profit of both division for Company= mean1 + mean2\n",
    "mean1 = 5\n",
    "mean2 = 7\n",
    "Mean = (mean1+mean2) # 1 USD = 45 rupees\n",
    "print('The Mean Profit of both division:',Mean, 'Million$')\n",
    "print('The Mean Profit of both division:',(Mean*45)/10, 'Crore Rupees')\n",
    "\n",
    "# Combine standard Deviation = (Std1^2 + Std2^2)^1/2\n",
    "std1 = 3**2\n",
    "std2 = 4**2\n",
    "Std = np.sqrt(std1 + std2)\n",
    "print('The Standard Deviation of both division:', Std, 'Million$')\n",
    "print('The Standard Deviation of both division:', (Std*45)/10, 'Crore Rupees')"
   ]
  },
  {
   "cell_type": "markdown",
   "id": "7e844275",
   "metadata": {},
   "source": [
    "A.\tSpecify a Rupee range (centered on the mean) such that it contains 95% probability for the annual profit of the company."
   ]
  },
  {
   "cell_type": "code",
   "execution_count": 5,
   "id": "0b642c3f",
   "metadata": {},
   "outputs": [
    {
     "name": "stdout",
     "output_type": "stream",
     "text": [
      "Rupee Ranges from 2.2 to 21.8 Million$ in Annual profit of the Company 95% of the time\n",
      "Rupee Ranges from 9.900000000000002 to 98.1 Crore Rupees in Annual profit of the Company 95% of the time\n"
     ]
    }
   ],
   "source": [
    "r1, r2 = np.round(stats.norm.interval(0.95, Mean, Std),2)\n",
    "print('Rupee Ranges from',r1,'to',r2,'Million$ in Annual profit of the Company 95% of the time')\n",
    "print('Rupee Ranges from',np.divide(np.multiply(r1,45),10),'to',np.divide(np.multiply(r2,45),10),'Crore Rupees in Annual profit of the Company 95% of the time')"
   ]
  },
  {
   "cell_type": "markdown",
   "id": "8eca5d48",
   "metadata": {},
   "source": [
    "B.\tSpecify the 5th percentile of profit (in Rupees) for the company"
   ]
  },
  {
   "cell_type": "code",
   "execution_count": 6,
   "id": "5c221cd6",
   "metadata": {},
   "outputs": [
    {
     "name": "stdout",
     "output_type": "stream",
     "text": [
      "The 5th percentile of Profit for the company is 3.78 Million$\n",
      "The 5th percentile of Profit for the company is 17.0 Crore Rupees\n"
     ]
    }
   ],
   "source": [
    "# Z value  = X_bar - Mew / Std pop \n",
    "# for percentile, X_percentile = (Zvalue * Std pop) + Mew\n",
    "Z_05_ = stats.norm.ppf(0.05)\n",
    "Fifth_percentile = (Z_05_ * Std) + Mean\n",
    "print('The 5th percentile of Profit for the company is',np.round(Fifth_percentile,2),'Million$')\n",
    "print('The 5th percentile of Profit for the company is',np.round((Fifth_percentile*45)/10,),'Crore Rupees')"
   ]
  },
  {
   "cell_type": "markdown",
   "id": "a2b69d01",
   "metadata": {},
   "source": [
    "C.\tWhich of the two divisions has a larger probability of making a loss in a given year?"
   ]
  },
  {
   "cell_type": "code",
   "execution_count": 7,
   "id": "6065056f",
   "metadata": {},
   "outputs": [
    {
     "name": "stdout",
     "output_type": "stream",
     "text": [
      "The Probability of Division #1 making a loss is 4.78 %\n",
      "The Probability of Division #2 making a loss is 4.01 %\n",
      "The Division 1 has a larger Probability of making a loss\n"
     ]
    }
   ],
   "source": [
    "# The probability of Division #1 making a loss\n",
    "print('The Probability of Division #1 making a loss is',np.round((stats.norm.cdf(0,5,3))*100,2),'%')\n",
    "\n",
    "# The probability of Division #2 making a loss\n",
    "print('The Probability of Division #2 making a loss is',np.round((stats.norm.cdf(0,7,4))*100,2),'%')\n",
    "\n",
    "Division_1 = (stats.norm.cdf(0,5,3))*100\n",
    "Division_2 = (stats.norm.cdf(0,7,4))*100\n",
    "\n",
    "if Division_1>Division_2:\n",
    "    print('The Division 1 has a larger Probability of making a loss')\n",
    "else:\n",
    "          print('The Division 2 has a larger Porbability of making a loss')"
   ]
  },
  {
   "cell_type": "code",
   "execution_count": null,
   "id": "ab4f9935",
   "metadata": {},
   "outputs": [],
   "source": []
  }
 ],
 "metadata": {
  "kernelspec": {
   "display_name": "Python 3 (ipykernel)",
   "language": "python",
   "name": "python3"
  },
  "language_info": {
   "codemirror_mode": {
    "name": "ipython",
    "version": 3
   },
   "file_extension": ".py",
   "mimetype": "text/x-python",
   "name": "python",
   "nbconvert_exporter": "python",
   "pygments_lexer": "ipython3",
   "version": "3.9.7"
  }
 },
 "nbformat": 4,
 "nbformat_minor": 5
}
